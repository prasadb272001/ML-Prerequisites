{
 "cells": [
  {
   "cell_type": "markdown",
   "id": "4db521ff",
   "metadata": {},
   "source": [
    "# MATRIX OPERATIONS"
   ]
  },
  {
   "cell_type": "code",
   "execution_count": 1,
   "id": "01e60621",
   "metadata": {},
   "outputs": [],
   "source": [
    "import numpy as np"
   ]
  },
  {
   "cell_type": "code",
   "execution_count": 2,
   "id": "f9ce7aae",
   "metadata": {},
   "outputs": [
    {
     "name": "stdout",
     "output_type": "stream",
     "text": [
      "[[2 3]\n",
      " [4 5]]\n"
     ]
    }
   ],
   "source": [
    "#Matrix creation\n",
    "matrix_1=np.array([[2,3],[4,5]])\n",
    "print(matrix_1)"
   ]
  },
  {
   "cell_type": "code",
   "execution_count": 3,
   "id": "cccd425e",
   "metadata": {},
   "outputs": [
    {
     "data": {
      "text/plain": [
       "(2, 2)"
      ]
     },
     "execution_count": 3,
     "metadata": {},
     "output_type": "execute_result"
    }
   ],
   "source": [
    "#matrix shape\n",
    "matrix_1.shape"
   ]
  },
  {
   "cell_type": "code",
   "execution_count": 7,
   "id": "1748ef96",
   "metadata": {},
   "outputs": [
    {
     "name": "stdout",
     "output_type": "stream",
     "text": [
      "[[ 1.3315865   0.71527897 -1.54540029]\n",
      " [-0.00838385  0.62133597 -0.72008556]\n",
      " [ 0.26551159  0.10854853  0.00429143]]\n"
     ]
    }
   ],
   "source": [
    "#Creating random matrix\n",
    "np.random.seed(10)\n",
    "matrix_2=np.random.randn(3,3)\n",
    "print(matrix_2)"
   ]
  },
  {
   "cell_type": "code",
   "execution_count": 12,
   "id": "f957ad66",
   "metadata": {},
   "outputs": [
    {
     "name": "stdout",
     "output_type": "stream",
     "text": [
      "[[ 9 15 64]\n",
      " [28 89 93]\n",
      " [29  8 73]]\n"
     ]
    }
   ],
   "source": [
    "#matrix with less than 100 and integers\n",
    "np.random.seed(10)\n",
    "matrix3=np.random.randint(100,size=(3,3))\n",
    "print(matrix3)"
   ]
  },
  {
   "cell_type": "code",
   "execution_count": 14,
   "id": "54b5e9f1",
   "metadata": {},
   "outputs": [
    {
     "name": "stdout",
     "output_type": "stream",
     "text": [
      "[[1 1 1]\n",
      " [1 1 1]\n",
      " [1 1 1]]\n"
     ]
    }
   ],
   "source": [
    "#Matrix with all values are is 1\n",
    "matrix_4=np.ones((3,3),dtype=int)\n",
    "print(matrix_4)"
   ]
  },
  {
   "cell_type": "code",
   "execution_count": 19,
   "id": "45268227",
   "metadata": {},
   "outputs": [
    {
     "data": {
      "text/plain": [
       "array([[0., 0., 0.],\n",
       "       [0., 0., 0.],\n",
       "       [0., 0., 0.]])"
      ]
     },
     "execution_count": 19,
     "metadata": {},
     "output_type": "execute_result"
    }
   ],
   "source": [
    "#Null matrix\n",
    "np.zeros((3,3))"
   ]
  },
  {
   "cell_type": "code",
   "execution_count": 17,
   "id": "26549d66",
   "metadata": {},
   "outputs": [
    {
     "data": {
      "text/plain": [
       "array([[1., 0., 0.],\n",
       "       [0., 1., 0.],\n",
       "       [0., 0., 1.]])"
      ]
     },
     "execution_count": 17,
     "metadata": {},
     "output_type": "execute_result"
    }
   ],
   "source": [
    "#identy matrix\n",
    "np.eye(3,3)"
   ]
  },
  {
   "cell_type": "code",
   "execution_count": 20,
   "id": "8e231e71",
   "metadata": {},
   "outputs": [
    {
     "name": "stdout",
     "output_type": "stream",
     "text": [
      "[[ 9 28 29]\n",
      " [15 89  8]\n",
      " [64 93 73]]\n"
     ]
    }
   ],
   "source": [
    "#Transpose of a matrix\n",
    "transpose_matrix_3=np.transpose(matrix_3)\n",
    "print(transpose_matrix_3)"
   ]
  },
  {
   "cell_type": "code",
   "execution_count": 23,
   "id": "e84e86d5",
   "metadata": {},
   "outputs": [
    {
     "data": {
      "text/plain": [
       "array([[2, 3],\n",
       "       [4, 5]])"
      ]
     },
     "execution_count": 23,
     "metadata": {},
     "output_type": "execute_result"
    }
   ],
   "source": [
    "matrix_1"
   ]
  },
  {
   "cell_type": "code",
   "execution_count": 24,
   "id": "45a6021a",
   "metadata": {},
   "outputs": [
    {
     "data": {
      "text/plain": [
       "array([[5, 6],\n",
       "       [6, 7]])"
      ]
     },
     "execution_count": 24,
     "metadata": {},
     "output_type": "execute_result"
    }
   ],
   "source": [
    "matrix_5=np.array([[5,6],[6,7]])\n",
    "matrix_5"
   ]
  },
  {
   "cell_type": "code",
   "execution_count": 25,
   "id": "c4f3f6b3",
   "metadata": {},
   "outputs": [
    {
     "data": {
      "text/plain": [
       "array([[ 7,  9],\n",
       "       [10, 12]])"
      ]
     },
     "execution_count": 25,
     "metadata": {},
     "output_type": "execute_result"
    }
   ],
   "source": [
    "#Addition\n",
    "matrix_1+matrix_5"
   ]
  },
  {
   "cell_type": "code",
   "execution_count": 26,
   "id": "99cb33f2",
   "metadata": {},
   "outputs": [
    {
     "data": {
      "text/plain": [
       "array([[-3, -3],\n",
       "       [-2, -2]])"
      ]
     },
     "execution_count": 26,
     "metadata": {},
     "output_type": "execute_result"
    }
   ],
   "source": [
    "#Substraction\n",
    "matrix_1-matrix_5"
   ]
  },
  {
   "cell_type": "code",
   "execution_count": 29,
   "id": "ee6d3f5e",
   "metadata": {},
   "outputs": [
    {
     "name": "stdout",
     "output_type": "stream",
     "text": [
      "[[10 15]\n",
      " [20 25]]\n"
     ]
    }
   ],
   "source": [
    "#Multiplication with Scalar\n",
    "x=5\n",
    "product=np.multiply(x,matrix_1)\n",
    "print(product)"
   ]
  },
  {
   "cell_type": "code",
   "execution_count": 31,
   "id": "bddcf29a",
   "metadata": {},
   "outputs": [
    {
     "data": {
      "text/plain": [
       "array([[28, 33],\n",
       "       [50, 59]])"
      ]
     },
     "execution_count": 31,
     "metadata": {},
     "output_type": "execute_result"
    }
   ],
   "source": [
    "# Multiplication of two matrix\n",
    "#dot product\n",
    "np.dot(matrix_1,matrix_5)"
   ]
  },
  {
   "cell_type": "code",
   "execution_count": 32,
   "id": "d037ee68",
   "metadata": {},
   "outputs": [
    {
     "data": {
      "text/plain": [
       "array([[10, 18],\n",
       "       [24, 35]])"
      ]
     },
     "execution_count": 32,
     "metadata": {},
     "output_type": "execute_result"
    }
   ],
   "source": [
    "#Element wise multiplication\n",
    "np.multiply(matrix_1,matrix_5)"
   ]
  }
 ],
 "metadata": {
  "kernelspec": {
   "display_name": "Python 3 (ipykernel)",
   "language": "python",
   "name": "python3"
  },
  "language_info": {
   "codemirror_mode": {
    "name": "ipython",
    "version": 3
   },
   "file_extension": ".py",
   "mimetype": "text/x-python",
   "name": "python",
   "nbconvert_exporter": "python",
   "pygments_lexer": "ipython3",
   "version": "3.9.7"
  }
 },
 "nbformat": 4,
 "nbformat_minor": 5
}
