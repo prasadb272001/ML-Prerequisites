{
 "cells": [
  {
   "cell_type": "markdown",
   "id": "db12a79e",
   "metadata": {},
   "source": [
    "# NUMPY OPERATIONS"
   ]
  },
  {
   "cell_type": "code",
   "execution_count": 2,
   "id": "75ade9e1",
   "metadata": {},
   "outputs": [],
   "source": [
    "import numpy as np"
   ]
  },
  {
   "cell_type": "code",
   "execution_count": 6,
   "id": "96c9c896",
   "metadata": {},
   "outputs": [
    {
     "data": {
      "text/plain": [
       "array([1, 2, 3, 4])"
      ]
     },
     "execution_count": 6,
     "metadata": {},
     "output_type": "execute_result"
    }
   ],
   "source": [
    "#converting list into array\n",
    "list=[1,2,3,4]\n",
    "np.array(list)"
   ]
  },
  {
   "cell_type": "code",
   "execution_count": 9,
   "id": "55cc1ed2",
   "metadata": {},
   "outputs": [
    {
     "data": {
      "text/plain": [
       "array([['1', '2', '3'],\n",
       "       ['a', 'b', 'c'],\n",
       "       ['a', 'b', 'c']], dtype='<U11')"
      ]
     },
     "execution_count": 9,
     "metadata": {},
     "output_type": "execute_result"
    }
   ],
   "source": [
    "#nested list\n",
    "nested_list=[[1,2,3],['a','b','c'],['a','b','c']]\n",
    "np.array(nested_list)"
   ]
  },
  {
   "cell_type": "code",
   "execution_count": 12,
   "id": "0d5f2687",
   "metadata": {},
   "outputs": [
    {
     "data": {
      "text/plain": [
       "array([10,  9,  8,  7,  6,  5,  4,  3,  2,  1])"
      ]
     },
     "execution_count": 12,
     "metadata": {},
     "output_type": "execute_result"
    }
   ],
   "source": [
    "#BUILT IN FUNCTIONS\n",
    "#np.arange(start,end(excluded),step)\n",
    "np.arange(0,10,1)"
   ]
  },
  {
   "cell_type": "code",
   "execution_count": 13,
   "id": "8a794bb0",
   "metadata": {},
   "outputs": [
    {
     "data": {
      "text/plain": [
       "array([10,  9,  8,  7,  6,  5,  4,  3,  2,  1])"
      ]
     },
     "execution_count": 13,
     "metadata": {},
     "output_type": "execute_result"
    }
   ],
   "source": [
    "np.arange(10,0,-1)"
   ]
  },
  {
   "cell_type": "code",
   "execution_count": 16,
   "id": "d52fe9c3",
   "metadata": {},
   "outputs": [
    {
     "data": {
      "text/plain": [
       "array([[0, 0],\n",
       "       [0, 0],\n",
       "       [0, 0]])"
      ]
     },
     "execution_count": 16,
     "metadata": {},
     "output_type": "execute_result"
    }
   ],
   "source": [
    "#all Zeros\n",
    "#np.zeros(rows,columns)\n",
    "#for datatype  np.zeros((rows,columns),dtype=)\n",
    "np.zeros((3,2),dtype=int)"
   ]
  },
  {
   "cell_type": "code",
   "execution_count": 17,
   "id": "679ad83d",
   "metadata": {},
   "outputs": [
    {
     "data": {
      "text/plain": [
       "array([[1, 1],\n",
       "       [1, 1],\n",
       "       [1, 1]])"
      ]
     },
     "execution_count": 17,
     "metadata": {},
     "output_type": "execute_result"
    }
   ],
   "source": [
    "#all ones\n",
    "#np.ones(rows,columns)\n",
    "#for datatype  np.ones((rows,columns),dtype=)\n",
    "np.ones((3,2),dtype=int)"
   ]
  },
  {
   "cell_type": "code",
   "execution_count": 21,
   "id": "499cb664",
   "metadata": {},
   "outputs": [
    {
     "data": {
      "text/plain": [
       "array([ 1.        ,  1.31034483,  1.62068966,  1.93103448,  2.24137931,\n",
       "        2.55172414,  2.86206897,  3.17241379,  3.48275862,  3.79310345,\n",
       "        4.10344828,  4.4137931 ,  4.72413793,  5.03448276,  5.34482759,\n",
       "        5.65517241,  5.96551724,  6.27586207,  6.5862069 ,  6.89655172,\n",
       "        7.20689655,  7.51724138,  7.82758621,  8.13793103,  8.44827586,\n",
       "        8.75862069,  9.06896552,  9.37931034,  9.68965517, 10.        ])"
      ]
     },
     "execution_count": 21,
     "metadata": {},
     "output_type": "execute_result"
    }
   ],
   "source": [
    "#linspace --> Values prints equally spaced\n",
    "#np.linspace((start,end,how many values)\n",
    "np.linspace(1,10,30)"
   ]
  },
  {
   "cell_type": "code",
   "execution_count": 26,
   "id": "d5bbcfab",
   "metadata": {},
   "outputs": [
    {
     "data": {
      "text/plain": [
       "array([[1., 0., 0.],\n",
       "       [0., 1., 0.]])"
      ]
     },
     "execution_count": 26,
     "metadata": {},
     "output_type": "execute_result"
    }
   ],
   "source": [
    "#Identity matrix and dtype not supported\n",
    "np.eye(2,3)"
   ]
  },
  {
   "cell_type": "code",
   "execution_count": 116,
   "id": "cb7b485d",
   "metadata": {},
   "outputs": [
    {
     "data": {
      "text/plain": [
       "array([[0.19806286, 0.76053071, 0.16911084],\n",
       "       [0.08833981, 0.68535982, 0.95339335]])"
      ]
     },
     "execution_count": 116,
     "metadata": {},
     "output_type": "execute_result"
    }
   ],
   "source": [
    "#random matrix\n",
    "#np.random.rand(rows,columns) \n",
    "np.random.rand(2,3)"
   ]
  },
  {
   "cell_type": "code",
   "execution_count": 118,
   "id": "ebfb406a",
   "metadata": {},
   "outputs": [
    {
     "data": {
      "text/plain": [
       "array([[0.77132064, 0.02075195, 0.63364823],\n",
       "       [0.74880388, 0.49850701, 0.22479665]])"
      ]
     },
     "execution_count": 118,
     "metadata": {},
     "output_type": "execute_result"
    }
   ],
   "source": [
    "#to get same Values to again doing random values-->np.random.seed(10)\n",
    "np.random.seed(10)\n",
    "np.random.rand(2,3)"
   ]
  },
  {
   "cell_type": "code",
   "execution_count": 31,
   "id": "6f799032",
   "metadata": {},
   "outputs": [
    {
     "data": {
      "text/plain": [
       "array([[-0.08566145, -0.75063417,  0.27761554],\n",
       "       [-0.88478254,  0.20110215, -0.05314326]])"
      ]
     },
     "execution_count": 31,
     "metadata": {},
     "output_type": "execute_result"
    }
   ],
   "source": [
    "#both +ve and -ve values \n",
    "np.random.randn(2,3)"
   ]
  },
  {
   "cell_type": "code",
   "execution_count": 34,
   "id": "4f999daf",
   "metadata": {},
   "outputs": [
    {
     "data": {
      "text/plain": [
       "6"
      ]
     },
     "execution_count": 34,
     "metadata": {},
     "output_type": "execute_result"
    }
   ],
   "source": [
    "#printing random value using dtypes\n",
    "#np.random.randint(start,end(excudes))\n",
    "np.random.randint(1,100)"
   ]
  },
  {
   "cell_type": "code",
   "execution_count": 35,
   "id": "f5e3e6f2",
   "metadata": {},
   "outputs": [
    {
     "data": {
      "text/plain": [
       "array([25, 47, 78, 34, 24, 26, 79, 88, 49, 96])"
      ]
     },
     "execution_count": 35,
     "metadata": {},
     "output_type": "execute_result"
    }
   ],
   "source": [
    "#np.random.randint(start,end(excudes),step)\n",
    "np.random.randint(1,100,10)"
   ]
  },
  {
   "cell_type": "code",
   "execution_count": 37,
   "id": "3a599dc4",
   "metadata": {},
   "outputs": [
    {
     "data": {
      "text/plain": [
       "array([ 0,  1,  2,  3,  4,  5,  6,  7,  8,  9, 10, 11, 12, 13, 14, 15, 16,\n",
       "       17, 18, 19])"
      ]
     },
     "execution_count": 37,
     "metadata": {},
     "output_type": "execute_result"
    }
   ],
   "source": [
    "#reshape--> returning an array containg data with new data\n",
    "#reshape(rows,colums)\n",
    "arr=np.arange(20)\n",
    "arr"
   ]
  },
  {
   "cell_type": "code",
   "execution_count": 38,
   "id": "28080308",
   "metadata": {},
   "outputs": [
    {
     "data": {
      "text/plain": [
       "array([[ 0,  1,  2,  3,  4],\n",
       "       [ 5,  6,  7,  8,  9],\n",
       "       [10, 11, 12, 13, 14],\n",
       "       [15, 16, 17, 18, 19]])"
      ]
     },
     "execution_count": 38,
     "metadata": {},
     "output_type": "execute_result"
    }
   ],
   "source": [
    "arr.reshape(4,5)"
   ]
  },
  {
   "cell_type": "code",
   "execution_count": 42,
   "id": "f5735e51",
   "metadata": {},
   "outputs": [
    {
     "data": {
      "text/plain": [
       "array([ 0, 10, 20, 30, 40])"
      ]
     },
     "execution_count": 42,
     "metadata": {},
     "output_type": "execute_result"
    }
   ],
   "source": [
    "arr2=np.arange(0,50,10)\n",
    "arr2"
   ]
  },
  {
   "cell_type": "code",
   "execution_count": 43,
   "id": "eea90481",
   "metadata": {},
   "outputs": [
    {
     "data": {
      "text/plain": [
       "4"
      ]
     },
     "execution_count": 43,
     "metadata": {},
     "output_type": "execute_result"
    }
   ],
   "source": [
    "# argmax-->index of maximum value\n",
    "arr2.argmax()"
   ]
  },
  {
   "cell_type": "code",
   "execution_count": 44,
   "id": "3ab85438",
   "metadata": {},
   "outputs": [
    {
     "data": {
      "text/plain": [
       "0"
      ]
     },
     "execution_count": 44,
     "metadata": {},
     "output_type": "execute_result"
    }
   ],
   "source": [
    "# argmin-->index of minimum value\n",
    "arr2.argmin()"
   ]
  },
  {
   "cell_type": "code",
   "execution_count": 48,
   "id": "dedab0cd",
   "metadata": {},
   "outputs": [
    {
     "data": {
      "text/plain": [
       "0"
      ]
     },
     "execution_count": 48,
     "metadata": {},
     "output_type": "execute_result"
    }
   ],
   "source": [
    "# min()-->minimum value\n",
    "arr2.min()"
   ]
  },
  {
   "cell_type": "code",
   "execution_count": 47,
   "id": "578f7633",
   "metadata": {},
   "outputs": [
    {
     "data": {
      "text/plain": [
       "40"
      ]
     },
     "execution_count": 47,
     "metadata": {},
     "output_type": "execute_result"
    }
   ],
   "source": [
    "#max()-->maximum value\n",
    "arr2.max()"
   ]
  },
  {
   "cell_type": "code",
   "execution_count": 55,
   "id": "ec41b23e",
   "metadata": {},
   "outputs": [
    {
     "data": {
      "text/plain": [
       "0"
      ]
     },
     "execution_count": 55,
     "metadata": {},
     "output_type": "execute_result"
    }
   ],
   "source": [
    "# [start:end:step]-->Bracket indexing\n",
    "#0th index postion\n",
    "a=arr2[0]\n",
    "#[atart:end]-->where you want start and end\n",
    "b=arr2[3:6]\n",
    "#reverse order\n",
    "c=arr2[::-1]\n",
    "a"
   ]
  },
  {
   "cell_type": "code",
   "execution_count": 56,
   "id": "79632a7a",
   "metadata": {},
   "outputs": [
    {
     "data": {
      "text/plain": [
       "array([30, 40])"
      ]
     },
     "execution_count": 56,
     "metadata": {},
     "output_type": "execute_result"
    }
   ],
   "source": [
    "b"
   ]
  },
  {
   "cell_type": "code",
   "execution_count": 57,
   "id": "a774b831",
   "metadata": {},
   "outputs": [
    {
     "data": {
      "text/plain": [
       "array([40, 30, 20, 10,  0])"
      ]
     },
     "execution_count": 57,
     "metadata": {},
     "output_type": "execute_result"
    }
   ],
   "source": [
    "c"
   ]
  },
  {
   "cell_type": "code",
   "execution_count": 68,
   "id": "d758e6ce",
   "metadata": {},
   "outputs": [
    {
     "data": {
      "text/plain": [
       "array([ 0,  1,  2,  3,  4,  5,  6,  7,  8,  9, 10])"
      ]
     },
     "execution_count": 68,
     "metadata": {},
     "output_type": "execute_result"
    }
   ],
   "source": [
    "#Broadcasting-->it assigns the values to many positions like list but in list only one index position\n",
    "arr3=np.arange(0,11)\n",
    "arr3"
   ]
  },
  {
   "cell_type": "code",
   "execution_count": 69,
   "id": "4f5b5767",
   "metadata": {},
   "outputs": [
    {
     "data": {
      "text/plain": [
       "array([0, 1, 2, 3, 4])"
      ]
     },
     "execution_count": 69,
     "metadata": {},
     "output_type": "execute_result"
    }
   ],
   "source": [
    "#prints which values wants to assign same values\n",
    "slicing_array=arr3[0:5]\n",
    "slicing_array"
   ]
  },
  {
   "cell_type": "code",
   "execution_count": 70,
   "id": "91f263c2",
   "metadata": {},
   "outputs": [
    {
     "data": {
      "text/plain": [
       "array([100, 100, 100, 100, 100])"
      ]
     },
     "execution_count": 70,
     "metadata": {},
     "output_type": "execute_result"
    }
   ],
   "source": [
    "#sliced values assigning to 100\n",
    "slicing_array[:]=100\n",
    "slicing_array"
   ]
  },
  {
   "cell_type": "code",
   "execution_count": 71,
   "id": "efa9c1cb",
   "metadata": {},
   "outputs": [
    {
     "data": {
      "text/plain": [
       "array([100, 100, 100, 100, 100,   5,   6,   7,   8,   9,  10])"
      ]
     },
     "execution_count": 71,
     "metadata": {},
     "output_type": "execute_result"
    }
   ],
   "source": [
    "arr3"
   ]
  },
  {
   "cell_type": "code",
   "execution_count": 74,
   "id": "9b766a22",
   "metadata": {},
   "outputs": [
    {
     "data": {
      "text/plain": [
       "array([[1, 2, 3],\n",
       "       [4, 5, 6],\n",
       "       [9, 5, 3]])"
      ]
     },
     "execution_count": 74,
     "metadata": {},
     "output_type": "execute_result"
    }
   ],
   "source": [
    "#Indexing 2D array\n",
    "mat=np.array([[1,2,3],[4,5,6],[9,5,3]])\n",
    "mat"
   ]
  },
  {
   "cell_type": "code",
   "execution_count": 76,
   "id": "153f73b9",
   "metadata": {},
   "outputs": [
    {
     "data": {
      "text/plain": [
       "(3, 3)"
      ]
     },
     "execution_count": 76,
     "metadata": {},
     "output_type": "execute_result"
    }
   ],
   "source": [
    "mat.shape"
   ]
  },
  {
   "cell_type": "code",
   "execution_count": 77,
   "id": "d28b2cd4",
   "metadata": {},
   "outputs": [
    {
     "data": {
      "text/plain": [
       "3"
      ]
     },
     "execution_count": 77,
     "metadata": {},
     "output_type": "execute_result"
    }
   ],
   "source": [
    "mat[2][2]"
   ]
  },
  {
   "cell_type": "code",
   "execution_count": 79,
   "id": "8bd7380a",
   "metadata": {},
   "outputs": [
    {
     "data": {
      "text/plain": [
       "array([[5, 6],\n",
       "       [5, 3]])"
      ]
     },
     "execution_count": 79,
     "metadata": {},
     "output_type": "execute_result"
    }
   ],
   "source": [
    "#[start row:end row(excludes),start column:ending column(excludes)]\n",
    "mat[1:,1:]"
   ]
  },
  {
   "cell_type": "code",
   "execution_count": 80,
   "id": "7e8867e7",
   "metadata": {},
   "outputs": [
    {
     "data": {
      "text/plain": [
       "array([ 1,  2,  3,  4,  5,  6,  7,  8,  9, 10, 11, 12, 13, 14])"
      ]
     },
     "execution_count": 80,
     "metadata": {},
     "output_type": "execute_result"
    }
   ],
   "source": [
    "#Boolean indexing--> True or False\n",
    "arr4=np.arange(1,15)\n",
    "arr4"
   ]
  },
  {
   "cell_type": "code",
   "execution_count": 81,
   "id": "8aefa621",
   "metadata": {},
   "outputs": [
    {
     "data": {
      "text/plain": [
       "array([False, False, False, False, False,  True,  True,  True,  True,\n",
       "        True,  True,  True,  True,  True])"
      ]
     },
     "execution_count": 81,
     "metadata": {},
     "output_type": "execute_result"
    }
   ],
   "source": [
    "arr4>5"
   ]
  },
  {
   "cell_type": "code",
   "execution_count": 82,
   "id": "8ea1d52f",
   "metadata": {},
   "outputs": [
    {
     "data": {
      "text/plain": [
       "array([ 6,  7,  8,  9, 10, 11, 12, 13, 14])"
      ]
     },
     "execution_count": 82,
     "metadata": {},
     "output_type": "execute_result"
    }
   ],
   "source": [
    "boolean_array=arr4>5\n",
    "arr4[boolean_array]"
   ]
  },
  {
   "cell_type": "code",
   "execution_count": 84,
   "id": "dc1829ec",
   "metadata": {},
   "outputs": [
    {
     "data": {
      "text/plain": [
       "array([ 3,  4,  5,  6,  7,  8,  9, 10, 11, 12, 13, 14])"
      ]
     },
     "execution_count": 84,
     "metadata": {},
     "output_type": "execute_result"
    }
   ],
   "source": [
    "arr4[arr4>2]"
   ]
  },
  {
   "cell_type": "code",
   "execution_count": 85,
   "id": "98c972d9",
   "metadata": {},
   "outputs": [],
   "source": [
    "##Numpy Operations"
   ]
  },
  {
   "cell_type": "code",
   "execution_count": 86,
   "id": "9c952f34",
   "metadata": {},
   "outputs": [
    {
     "data": {
      "text/plain": [
       "array([ 1,  2,  3,  4,  5,  6,  7,  8,  9, 10, 11, 12, 13, 14])"
      ]
     },
     "execution_count": 86,
     "metadata": {},
     "output_type": "execute_result"
    }
   ],
   "source": [
    "arr4"
   ]
  },
  {
   "cell_type": "code",
   "execution_count": 87,
   "id": "391abe75",
   "metadata": {},
   "outputs": [
    {
     "data": {
      "text/plain": [
       "array([ 2,  4,  6,  8, 10, 12, 14, 16, 18, 20, 22, 24, 26, 28])"
      ]
     },
     "execution_count": 87,
     "metadata": {},
     "output_type": "execute_result"
    }
   ],
   "source": [
    "#addition\n",
    "arr4+arr4"
   ]
  },
  {
   "cell_type": "code",
   "execution_count": 88,
   "id": "5837a0a9",
   "metadata": {},
   "outputs": [
    {
     "data": {
      "text/plain": [
       "array([0, 0, 0, 0, 0, 0, 0, 0, 0, 0, 0, 0, 0, 0])"
      ]
     },
     "execution_count": 88,
     "metadata": {},
     "output_type": "execute_result"
    }
   ],
   "source": [
    "#subtraction\n",
    "arr4-arr4"
   ]
  },
  {
   "cell_type": "code",
   "execution_count": 89,
   "id": "9ed502f1",
   "metadata": {},
   "outputs": [
    {
     "data": {
      "text/plain": [
       "array([  1,   4,   9,  16,  25,  36,  49,  64,  81, 100, 121, 144, 169,\n",
       "       196])"
      ]
     },
     "execution_count": 89,
     "metadata": {},
     "output_type": "execute_result"
    }
   ],
   "source": [
    "#multiplication\n",
    "arr4*arr4"
   ]
  },
  {
   "cell_type": "code",
   "execution_count": 91,
   "id": "39b32ffe",
   "metadata": {},
   "outputs": [
    {
     "data": {
      "text/plain": [
       "array([  1,   4,   9,  16,  25,  36,  49,  64,  81, 100, 121, 144, 169,\n",
       "       196], dtype=int32)"
      ]
     },
     "execution_count": 91,
     "metadata": {},
     "output_type": "execute_result"
    }
   ],
   "source": [
    "#power\n",
    "arr4**2"
   ]
  },
  {
   "cell_type": "code",
   "execution_count": 93,
   "id": "8c8b1dd2",
   "metadata": {},
   "outputs": [
    {
     "data": {
      "text/plain": [
       "array([1.        , 1.41421356, 1.73205081, 2.        , 2.23606798,\n",
       "       2.44948974, 2.64575131, 2.82842712, 3.        , 3.16227766,\n",
       "       3.31662479, 3.46410162, 3.60555128, 3.74165739])"
      ]
     },
     "execution_count": 93,
     "metadata": {},
     "output_type": "execute_result"
    }
   ],
   "source": [
    "np.sqrt(arr4)"
   ]
  },
  {
   "cell_type": "code",
   "execution_count": 94,
   "id": "d5b1e56a",
   "metadata": {},
   "outputs": [
    {
     "data": {
      "text/plain": [
       "array([2.71828183e+00, 7.38905610e+00, 2.00855369e+01, 5.45981500e+01,\n",
       "       1.48413159e+02, 4.03428793e+02, 1.09663316e+03, 2.98095799e+03,\n",
       "       8.10308393e+03, 2.20264658e+04, 5.98741417e+04, 1.62754791e+05,\n",
       "       4.42413392e+05, 1.20260428e+06])"
      ]
     },
     "execution_count": 94,
     "metadata": {},
     "output_type": "execute_result"
    }
   ],
   "source": [
    "np.exp(arr4)"
   ]
  },
  {
   "cell_type": "code",
   "execution_count": 95,
   "id": "335c07bf",
   "metadata": {},
   "outputs": [
    {
     "data": {
      "text/plain": [
       "14"
      ]
     },
     "execution_count": 95,
     "metadata": {},
     "output_type": "execute_result"
    }
   ],
   "source": [
    "np.max(arr4)"
   ]
  },
  {
   "cell_type": "code",
   "execution_count": 96,
   "id": "e73df65b",
   "metadata": {},
   "outputs": [
    {
     "data": {
      "text/plain": [
       "array([ 0.84147098,  0.90929743,  0.14112001, -0.7568025 , -0.95892427,\n",
       "       -0.2794155 ,  0.6569866 ,  0.98935825,  0.41211849, -0.54402111,\n",
       "       -0.99999021, -0.53657292,  0.42016704,  0.99060736])"
      ]
     },
     "execution_count": 96,
     "metadata": {},
     "output_type": "execute_result"
    }
   ],
   "source": [
    "np.sin(arr4)"
   ]
  },
  {
   "cell_type": "code",
   "execution_count": 97,
   "id": "cd31c274",
   "metadata": {},
   "outputs": [
    {
     "data": {
      "text/plain": [
       "array([23, 24, 15, 22,  1, 12])"
      ]
     },
     "execution_count": 97,
     "metadata": {},
     "output_type": "execute_result"
    }
   ],
   "source": [
    "##Statistical Operations\n",
    "arr5=np.random.randint(0,25,6)\n",
    "arr5"
   ]
  },
  {
   "cell_type": "code",
   "execution_count": 98,
   "id": "7cc5f8f4",
   "metadata": {},
   "outputs": [
    {
     "data": {
      "text/plain": [
       "16.166666666666668"
      ]
     },
     "execution_count": 98,
     "metadata": {},
     "output_type": "execute_result"
    }
   ],
   "source": [
    "arr5.mean()"
   ]
  },
  {
   "cell_type": "code",
   "execution_count": 101,
   "id": "61dbbaec",
   "metadata": {},
   "outputs": [
    {
     "data": {
      "text/plain": [
       "65.13888888888889"
      ]
     },
     "execution_count": 101,
     "metadata": {},
     "output_type": "execute_result"
    }
   ],
   "source": [
    "arr5.var()"
   ]
  },
  {
   "cell_type": "code",
   "execution_count": 102,
   "id": "d0f9ac89",
   "metadata": {},
   "outputs": [
    {
     "data": {
      "text/plain": [
       "8.070866675202167"
      ]
     },
     "execution_count": 102,
     "metadata": {},
     "output_type": "execute_result"
    }
   ],
   "source": [
    "arr5.std()"
   ]
  },
  {
   "cell_type": "code",
   "execution_count": 103,
   "id": "0b8a136f",
   "metadata": {},
   "outputs": [
    {
     "data": {
      "text/plain": [
       "18.5"
      ]
     },
     "execution_count": 103,
     "metadata": {},
     "output_type": "execute_result"
    }
   ],
   "source": [
    "np.median(arr5)"
   ]
  },
  {
   "cell_type": "code",
   "execution_count": 104,
   "id": "3d1351aa",
   "metadata": {},
   "outputs": [],
   "source": [
    "##using numpy as list"
   ]
  },
  {
   "cell_type": "code",
   "execution_count": 106,
   "id": "7361ded9",
   "metadata": {},
   "outputs": [
    {
     "data": {
      "text/plain": [
       "[1, 2, 3, 1, 2, 3]"
      ]
     },
     "execution_count": 106,
     "metadata": {},
     "output_type": "execute_result"
    }
   ],
   "source": [
    "l=[1,2,3]\n",
    "l*2"
   ]
  },
  {
   "cell_type": "code",
   "execution_count": 107,
   "id": "4510203b",
   "metadata": {},
   "outputs": [
    {
     "ename": "TypeError",
     "evalue": "can't multiply sequence by non-int of type 'float'",
     "output_type": "error",
     "traceback": [
      "\u001b[1;31m---------------------------------------------------------------------------\u001b[0m",
      "\u001b[1;31mTypeError\u001b[0m                                 Traceback (most recent call last)",
      "\u001b[1;32m~\\AppData\\Local\\Temp/ipykernel_1232/2086727856.py\u001b[0m in \u001b[0;36m<module>\u001b[1;34m\u001b[0m\n\u001b[1;32m----> 1\u001b[1;33m \u001b[0ml\u001b[0m\u001b[1;33m*\u001b[0m\u001b[1;36m2.5\u001b[0m\u001b[1;33m\u001b[0m\u001b[1;33m\u001b[0m\u001b[0m\n\u001b[0m",
      "\u001b[1;31mTypeError\u001b[0m: can't multiply sequence by non-int of type 'float'"
     ]
    }
   ],
   "source": [
    "l*2.5"
   ]
  },
  {
   "cell_type": "code",
   "execution_count": 114,
   "id": "ab6102cf",
   "metadata": {},
   "outputs": [
    {
     "data": {
      "text/plain": [
       "array([2.5, 5. , 7.5])"
      ]
     },
     "execution_count": 114,
     "metadata": {},
     "output_type": "execute_result"
    }
   ],
   "source": [
    "np_1=np.array(l)\n",
    "np_1*2.5"
   ]
  },
  {
   "cell_type": "code",
   "execution_count": null,
   "id": "29924681",
   "metadata": {},
   "outputs": [],
   "source": []
  }
 ],
 "metadata": {
  "kernelspec": {
   "display_name": "Python 3 (ipykernel)",
   "language": "python",
   "name": "python3"
  },
  "language_info": {
   "codemirror_mode": {
    "name": "ipython",
    "version": 3
   },
   "file_extension": ".py",
   "mimetype": "text/x-python",
   "name": "python",
   "nbconvert_exporter": "python",
   "pygments_lexer": "ipython3",
   "version": "3.9.7"
  }
 },
 "nbformat": 4,
 "nbformat_minor": 5
}
